{
 "cells": [
  {
   "cell_type": "markdown",
   "metadata": {
    "id": "vN5lM2csj9v7"
   },
   "source": [
    "# Computer Vision Assignment 1 Part 2\n",
    "---\n",
    "\n",
    "Semester: **Fall 2022**\n",
    "\n",
    "Due date: **September 29th 2022, 11.59PM EST.**\n",
    "\n",
    "## Introduction\n",
    "---\n",
    "This assignment requires you to participate in a Kaggle competition with the rest of the class on the [German Traffic Sign Recognition Benchmark](http://benchmark.ini.rub.de/?section=gtsrb). The objective is to produce a model that gives the highest possible accuracy on the test portion of this dataset. You can register for the competition using the private link: https://www.kaggle.com/c/nyu-computer-vision-csci-ga2271-2022/overview.\n",
    "\n",
    "Skeleton code is provided in the colab below. This contains code for training a simple default model and evaluating it on the test set. The evaluation script produces a file `gtsrb_kaggle.csv` that lists the IDs of the test set images, along with their predicted label. This file should be uploaded to the Kaggle webpage, which will then produce a test accuracy score. \n",
    "\n",
    "Your goal is to implement a new model architecture that improves upon the baseline performance. You are free to implement any approach covered in class or from research papers. This part will count for 50% of the overall grade for assignment 1. This Grading will depend on your Kaggle performance and rank, as well as novelty of the architecture.  \n",
    "\n",
    "## Rules\n",
    "---\n",
    "You should make a copy of this Colab (`File->Save a copy in Drive`). Please start the assignment early and don’t be afraid to ask for help from either the TAs or myself. You are allowed to collaborate with other students in terms discussing ideas and possible solutions. However you code up the solution yourself, i.e. you must write your own code. Copying your friends code and just changing all the names of the variables is NOT ALLOWED! You are not allowed to use solutions from similar assignments in courses from other institutions, or those found elsewhere on the web.\n",
    "\n",
    "Your solutions should be submitted via the Brightspace system. This should include a brief description (in the Colab) explaining the model architectures you explored, citing any relevant papers or techniques that you used. You should also include convergence plots of training accuracy vs epoch for relevant models. \n",
    "\n",
    "## Important Details\n",
    "---\n",
    "• You are only allowed 8 submissions to the Kaggle evaluation server per day. This is to prevent over-fitting on the test dataset. So be sure to start the assignment early!\n",
    "\n",
    "• You are NOT ALLOWED to use the test set labels during training in any way. Doing so will be regarded as cheating and penalized accordingly.\n",
    "\n",
    "• The evaluation metric is accuracy, i.e. the fraction of test set examples where the predicted label agrees with the ground truth label.\n",
    "\n",
    "• You should be able to achieve a test accuracy of at least 95% \n",
    "\n",
    "• **Extra important:** Please use your NYU NetID as your team name on Kaggle, so the TAs can figure out which user you are on the leaderboard. \n",
    "\n",
    "# Dataset Preparation\n",
    "___\n",
    "\n",
    "1.  Download `dataset.zip` from the course website to your local machine.\n",
    "2.  Unzip the file. You should see a `dataset` directory with three subfolders: `training`, `validation`, and `testing`. \n",
    "3.  Go to Google Drive (on your NYU account) and make a new directory (say `cv_kaggle_assignment`).\n",
    "4.  Upload each of the three subfolders to it. \n",
    "5.  Run the code block below. It will ask for permission to mount your Google Drive (NYU account) so this colab can access it. Paste the authorization code into the box as requested. \n"
   ]
  },
  {
   "cell_type": "markdown",
   "metadata": {},
   "source": [
    "**I am using my own computer to train so I will not use Colab and Google Drive**"
   ]
  },
  {
   "cell_type": "code",
   "execution_count": null,
   "metadata": {
    "colab": {
     "base_uri": "https://localhost:8080/"
    },
    "id": "o0aPnIKXpWbN",
    "outputId": "ad368ad1-2add-4059-ae87-719d22ae207a"
   },
   "outputs": [
    {
     "name": "stdout",
     "output_type": "stream",
     "text": [
      "Drive already mounted at /content/drive; to attempt to forcibly remount, call drive.mount(\"/content/drive\", force_remount=True).\n",
      "/content/drive/My Drive/cv_kaggle_assignment\n"
     ]
    }
   ],
   "source": [
    "# Load the Drive helper and mount\n",
    "# from google.colab import drive\n",
    "# drive.mount('/content/drive')\n",
    "# %cd  /content/drive/'My Drive'/cv_kaggle_assignment/"
   ]
  },
  {
   "cell_type": "markdown",
   "metadata": {
    "id": "_6jVfIVtrn5u"
   },
   "source": [
    "# Dataloader"
   ]
  },
  {
   "cell_type": "code",
   "execution_count": 30,
   "metadata": {
    "id": "z21UKj_bT--_"
   },
   "outputs": [],
   "source": [
    "import torch\n",
    "from torch.utils.data import Dataset\n",
    "import torch.nn as nn\n",
    "import torch.nn.functional as F\n",
    "import torch.optim as optim\n",
    "from torchvision import datasets, transforms\n",
    "\n",
    "batch_size = 128\n",
    "\n",
    "class MyDataset(Dataset):\n",
    "    def __init__(self, X_path, y_path, transform=None):\n",
    "        self.X = torch.load(X_path).squeeze(1)\n",
    "        self.y = torch.load(y_path).squeeze(1)\n",
    "        self.transform = transform\n",
    "    \n",
    "    def __len__(self):\n",
    "        return self.X.size(0)\n",
    "\n",
    "    def __getitem__(self, idx):\n",
    "        return self.X[idx], self.y[idx]\n",
    "\n",
    "train_dataset = MyDataset(X_path=\"data/dataset/train/X.pt\", y_path=\"data/dataset/train/y.pt\")\n",
    "val_dataset = MyDataset(X_path=\"data/dataset/validation/X.pt\", y_path=\"data/dataset/validation/y.pt\")\n",
    "\n",
    "train_loader = torch.utils.data.DataLoader(train_dataset, batch_size=batch_size, shuffle=True)\n",
    "val_loader = torch.utils.data.DataLoader(val_dataset, batch_size=batch_size, shuffle=False)"
   ]
  },
  {
   "cell_type": "markdown",
   "metadata": {
    "id": "Qd6W0pQRvZKO"
   },
   "source": [
    "# Model"
   ]
  },
  {
   "cell_type": "code",
   "execution_count": 34,
   "metadata": {
    "scrolled": true,
    "tags": []
   },
   "outputs": [],
   "source": [
    "import torch\n",
    "import torch.nn as nn\n",
    "import torch.nn.functional as F\n",
    "import torchvision.models as models\n",
    "\n",
    "class MyModel(nn.Module):\n",
    "    def __init__(self):\n",
    "        super(MyModel, self).__init__()\n",
    "        self.encoder = nn.Sequential(\n",
    "            nn.Conv2d(3, 64, 3),\n",
    "            nn.ReLU(),\n",
    "            nn.BatchNorm2d(64),\n",
    "            nn.Conv2d(64, 64, 3),\n",
    "            nn.ReLU(),\n",
    "            nn.BatchNorm2d(64),\n",
    "            nn.MaxPool2d(2),\n",
    "            \n",
    "            nn.BatchNorm2d(64),\n",
    "            nn.Conv2d(64, 128, 3),\n",
    "            nn.ReLU(),\n",
    "            nn.BatchNorm2d(128),\n",
    "            nn.Conv2d(128, 256, 3),\n",
    "            nn.ReLU(),\n",
    "            nn.BatchNorm2d(256),\n",
    "            nn.MaxPool2d(2),\n",
    "\n",
    "            nn.BatchNorm2d(256),\n",
    "            nn.Conv2d(256, 512, 3),\n",
    "            nn.ReLU(),\n",
    "            nn.BatchNorm2d(512),\n",
    "            nn.Conv2d(512, 2048, 1),\n",
    "            nn.ReLU(),\n",
    "            nn.BatchNorm2d(2048),\n",
    "            nn.AdaptiveMaxPool2d(1),\n",
    "\n",
    "            nn.Flatten(),\n",
    "            nn.BatchNorm1d(2048),\n",
    "            nn.Dropout(0.3),\n",
    "            nn.Linear(2048, 512),\n",
    "            nn.BatchNorm1d(512),\n",
    "            nn.ReLU(),\n",
    "            nn.Dropout(0.3),\n",
    "            nn.Linear(512, 43)\n",
    "        )\n",
    "    \n",
    "    def forward(self, x):\n",
    "        x = self.encoder(x)\n",
    "        # x = x.view(-1, 8192)\n",
    "        # x = self.fc(x)\n",
    "        return x"
   ]
  },
  {
   "cell_type": "code",
   "execution_count": 11,
   "metadata": {},
   "outputs": [],
   "source": [
    "# model = MyModel()\n",
    "# model\n",
    "# x = torch.randn(2, 3, 32, 32)\n",
    "# model(x)"
   ]
  },
  {
   "cell_type": "markdown",
   "metadata": {
    "id": "Ty9TAvrdvf8C"
   },
   "source": [
    "# Training"
   ]
  },
  {
   "cell_type": "code",
   "execution_count": 35,
   "metadata": {
    "colab": {
     "base_uri": "https://localhost:8080/"
    },
    "id": "_A5-OCgBvhXv",
    "outputId": "17710c0b-86e5-41e4-b8cc-d3e4de1fa52f",
    "scrolled": true,
    "tags": []
   },
   "outputs": [
    {
     "name": "stderr",
     "output_type": "stream",
     "text": [
      "Training Epoch 1: 100%|██████████████████████████████████████████████████████████████| 277/277 [00:05<00:00, 47.40it/s]\n"
     ]
    },
    {
     "name": "stdout",
     "output_type": "stream",
     "text": [
      "Train Loss 0.00293823\tValidation Loss 0.00130257\tAccuracy 0.9579\n"
     ]
    },
    {
     "name": "stderr",
     "output_type": "stream",
     "text": [
      "Training Epoch 2: 100%|██████████████████████████████████████████████████████████████| 277/277 [00:05<00:00, 49.84it/s]\n"
     ]
    },
    {
     "name": "stdout",
     "output_type": "stream",
     "text": [
      "Train Loss 0.00013377\tValidation Loss 0.00131835\tAccuracy 0.9486\n"
     ]
    },
    {
     "name": "stderr",
     "output_type": "stream",
     "text": [
      "Training Epoch 3: 100%|██████████████████████████████████████████████████████████████| 277/277 [00:05<00:00, 50.00it/s]\n"
     ]
    },
    {
     "name": "stdout",
     "output_type": "stream",
     "text": [
      "Train Loss 0.00003323\tValidation Loss 0.00092021\tAccuracy 0.9651\n"
     ]
    },
    {
     "name": "stderr",
     "output_type": "stream",
     "text": [
      "Training Epoch 4: 100%|██████████████████████████████████████████████████████████████| 277/277 [00:05<00:00, 49.96it/s]\n"
     ]
    },
    {
     "name": "stdout",
     "output_type": "stream",
     "text": [
      "Train Loss 0.00014168\tValidation Loss 0.00091493\tAccuracy 0.9672\n"
     ]
    },
    {
     "name": "stderr",
     "output_type": "stream",
     "text": [
      "Training Epoch 5: 100%|██████████████████████████████████████████████████████████████| 277/277 [00:05<00:00, 49.54it/s]\n"
     ]
    },
    {
     "name": "stdout",
     "output_type": "stream",
     "text": [
      "Train Loss 0.00008433\tValidation Loss 0.00119574\tAccuracy 0.9517\n"
     ]
    },
    {
     "name": "stderr",
     "output_type": "stream",
     "text": [
      "Training Epoch 6: 100%|██████████████████████████████████████████████████████████████| 277/277 [00:05<00:00, 49.45it/s]\n"
     ]
    },
    {
     "name": "stdout",
     "output_type": "stream",
     "text": [
      "Train Loss 0.00002672\tValidation Loss 0.00065685\tAccuracy 0.9775\n"
     ]
    },
    {
     "name": "stderr",
     "output_type": "stream",
     "text": [
      "Training Epoch 7: 100%|██████████████████████████████████████████████████████████████| 277/277 [00:05<00:00, 49.25it/s]\n"
     ]
    },
    {
     "name": "stdout",
     "output_type": "stream",
     "text": [
      "Train Loss 0.00004983\tValidation Loss 0.00077408\tAccuracy 0.9755\n"
     ]
    },
    {
     "name": "stderr",
     "output_type": "stream",
     "text": [
      "Training Epoch 8: 100%|██████████████████████████████████████████████████████████████| 277/277 [00:05<00:00, 49.62it/s]\n"
     ]
    },
    {
     "name": "stdout",
     "output_type": "stream",
     "text": [
      "Train Loss 0.00015906\tValidation Loss 0.00301203\tAccuracy 0.9036\n"
     ]
    },
    {
     "name": "stderr",
     "output_type": "stream",
     "text": [
      "Training Epoch 9: 100%|██████████████████████████████████████████████████████████████| 277/277 [00:05<00:00, 49.35it/s]\n"
     ]
    },
    {
     "name": "stdout",
     "output_type": "stream",
     "text": [
      "Train Loss 0.00010079\tValidation Loss 0.00112757\tAccuracy 0.9646\n"
     ]
    },
    {
     "name": "stderr",
     "output_type": "stream",
     "text": [
      "Training Epoch 10: 100%|█████████████████████████████████████████████████████████████| 277/277 [00:05<00:00, 49.40it/s]\n"
     ]
    },
    {
     "name": "stdout",
     "output_type": "stream",
     "text": [
      "Train Loss 0.00004209\tValidation Loss 0.00132454\tAccuracy 0.9504\n"
     ]
    },
    {
     "name": "stderr",
     "output_type": "stream",
     "text": [
      "Training Epoch 11: 100%|█████████████████████████████████████████████████████████████| 277/277 [00:05<00:00, 49.48it/s]\n"
     ]
    },
    {
     "name": "stdout",
     "output_type": "stream",
     "text": [
      "Train Loss 0.00010168\tValidation Loss 0.00083171\tAccuracy 0.9716\n"
     ]
    },
    {
     "name": "stderr",
     "output_type": "stream",
     "text": [
      "Training Epoch 12: 100%|█████████████████████████████████████████████████████████████| 277/277 [00:05<00:00, 48.86it/s]\n"
     ]
    },
    {
     "name": "stdout",
     "output_type": "stream",
     "text": [
      "Train Loss 0.00003540\tValidation Loss 0.00074798\tAccuracy 0.9736\n"
     ]
    },
    {
     "name": "stderr",
     "output_type": "stream",
     "text": [
      "Training Epoch 13: 100%|█████████████████████████████████████████████████████████████| 277/277 [00:05<00:00, 49.13it/s]\n"
     ]
    },
    {
     "name": "stdout",
     "output_type": "stream",
     "text": [
      "Train Loss 0.00008470\tValidation Loss 0.00090108\tAccuracy 0.9698\n"
     ]
    },
    {
     "name": "stderr",
     "output_type": "stream",
     "text": [
      "Training Epoch 14: 100%|█████████████████████████████████████████████████████████████| 277/277 [00:05<00:00, 49.38it/s]\n"
     ]
    },
    {
     "name": "stdout",
     "output_type": "stream",
     "text": [
      "Train Loss 0.00005524\tValidation Loss 0.00066384\tAccuracy 0.9747\n"
     ]
    },
    {
     "name": "stderr",
     "output_type": "stream",
     "text": [
      "Training Epoch 15: 100%|█████████████████████████████████████████████████████████████| 277/277 [00:05<00:00, 48.00it/s]\n"
     ]
    },
    {
     "name": "stdout",
     "output_type": "stream",
     "text": [
      "Train Loss 0.00002165\tValidation Loss 0.00360111\tAccuracy 0.8822\n"
     ]
    },
    {
     "name": "stderr",
     "output_type": "stream",
     "text": [
      "Training Epoch 16: 100%|█████████████████████████████████████████████████████████████| 277/277 [00:05<00:00, 48.78it/s]\n"
     ]
    },
    {
     "name": "stdout",
     "output_type": "stream",
     "text": [
      "Train Loss 0.00013807\tValidation Loss 0.00061389\tAccuracy 0.9793\n"
     ]
    },
    {
     "name": "stderr",
     "output_type": "stream",
     "text": [
      "Training Epoch 17: 100%|█████████████████████████████████████████████████████████████| 277/277 [00:05<00:00, 48.96it/s]\n"
     ]
    },
    {
     "name": "stdout",
     "output_type": "stream",
     "text": [
      "Train Loss 0.00002826\tValidation Loss 0.00066815\tAccuracy 0.9775\n"
     ]
    },
    {
     "name": "stderr",
     "output_type": "stream",
     "text": [
      "Training Epoch 18: 100%|█████████████████████████████████████████████████████████████| 277/277 [00:05<00:00, 48.65it/s]\n"
     ]
    },
    {
     "name": "stdout",
     "output_type": "stream",
     "text": [
      "Train Loss 0.00007401\tValidation Loss 0.00071861\tAccuracy 0.9770\n"
     ]
    },
    {
     "name": "stderr",
     "output_type": "stream",
     "text": [
      "Training Epoch 19: 100%|█████████████████████████████████████████████████████████████| 277/277 [00:05<00:00, 49.13it/s]\n"
     ]
    },
    {
     "name": "stdout",
     "output_type": "stream",
     "text": [
      "Train Loss 0.00010228\tValidation Loss 0.00071001\tAccuracy 0.9703\n"
     ]
    },
    {
     "name": "stderr",
     "output_type": "stream",
     "text": [
      "Training Epoch 20: 100%|█████████████████████████████████████████████████████████████| 277/277 [00:05<00:00, 49.26it/s]\n"
     ]
    },
    {
     "name": "stdout",
     "output_type": "stream",
     "text": [
      "Train Loss 0.00005302\tValidation Loss 0.00146728\tAccuracy 0.9468\n"
     ]
    },
    {
     "name": "stderr",
     "output_type": "stream",
     "text": [
      "Training Epoch 21: 100%|█████████████████████████████████████████████████████████████| 277/277 [00:05<00:00, 49.17it/s]\n"
     ]
    },
    {
     "name": "stdout",
     "output_type": "stream",
     "text": [
      "Train Loss 0.00006015\tValidation Loss 0.00114908\tAccuracy 0.9612\n"
     ]
    },
    {
     "name": "stderr",
     "output_type": "stream",
     "text": [
      "Training Epoch 22: 100%|█████████████████████████████████████████████████████████████| 277/277 [00:05<00:00, 49.05it/s]\n"
     ]
    },
    {
     "name": "stdout",
     "output_type": "stream",
     "text": [
      "Train Loss 0.00006605\tValidation Loss 0.00076291\tAccuracy 0.9752\n"
     ]
    },
    {
     "name": "stderr",
     "output_type": "stream",
     "text": [
      "Training Epoch 23: 100%|█████████████████████████████████████████████████████████████| 277/277 [00:05<00:00, 49.11it/s]\n"
     ]
    },
    {
     "name": "stdout",
     "output_type": "stream",
     "text": [
      "Train Loss 0.00009765\tValidation Loss 0.00070905\tAccuracy 0.9680\n"
     ]
    },
    {
     "name": "stderr",
     "output_type": "stream",
     "text": [
      "Training Epoch 24: 100%|█████████████████████████████████████████████████████████████| 277/277 [00:05<00:00, 49.03it/s]\n"
     ]
    },
    {
     "name": "stdout",
     "output_type": "stream",
     "text": [
      "Train Loss 0.00002633\tValidation Loss 0.00096569\tAccuracy 0.9690\n"
     ]
    },
    {
     "name": "stderr",
     "output_type": "stream",
     "text": [
      "Training Epoch 25: 100%|█████████████████████████████████████████████████████████████| 277/277 [00:05<00:00, 49.16it/s]\n"
     ]
    },
    {
     "name": "stdout",
     "output_type": "stream",
     "text": [
      "Train Loss 0.00001528\tValidation Loss 0.00044448\tAccuracy 0.9832\n"
     ]
    },
    {
     "name": "stderr",
     "output_type": "stream",
     "text": [
      "Training Epoch 26: 100%|█████████████████████████████████████████████████████████████| 277/277 [00:05<00:00, 49.24it/s]\n"
     ]
    },
    {
     "name": "stdout",
     "output_type": "stream",
     "text": [
      "Train Loss 0.00000512\tValidation Loss 0.00038170\tAccuracy 0.9866\n"
     ]
    },
    {
     "name": "stderr",
     "output_type": "stream",
     "text": [
      "Training Epoch 27: 100%|█████████████████████████████████████████████████████████████| 277/277 [00:05<00:00, 49.01it/s]\n"
     ]
    },
    {
     "name": "stdout",
     "output_type": "stream",
     "text": [
      "Train Loss 0.00000608\tValidation Loss 0.00044259\tAccuracy 0.9853\n"
     ]
    },
    {
     "name": "stderr",
     "output_type": "stream",
     "text": [
      "Training Epoch 28: 100%|█████████████████████████████████████████████████████████████| 277/277 [00:05<00:00, 48.99it/s]\n"
     ]
    },
    {
     "name": "stdout",
     "output_type": "stream",
     "text": [
      "Train Loss 0.00000829\tValidation Loss 0.00054402\tAccuracy 0.9832\n"
     ]
    },
    {
     "name": "stderr",
     "output_type": "stream",
     "text": [
      "Training Epoch 29: 100%|█████████████████████████████████████████████████████████████| 277/277 [00:05<00:00, 49.01it/s]\n"
     ]
    },
    {
     "name": "stdout",
     "output_type": "stream",
     "text": [
      "Train Loss 0.00025052\tValidation Loss 0.00072079\tAccuracy 0.9744\n"
     ]
    },
    {
     "name": "stderr",
     "output_type": "stream",
     "text": [
      "Training Epoch 30: 100%|█████████████████████████████████████████████████████████████| 277/277 [00:05<00:00, 48.98it/s]\n"
     ]
    },
    {
     "name": "stdout",
     "output_type": "stream",
     "text": [
      "Train Loss 0.00002234\tValidation Loss 0.00044936\tAccuracy 0.9840\n"
     ]
    },
    {
     "name": "stderr",
     "output_type": "stream",
     "text": [
      "Training Epoch 31: 100%|█████████████████████████████████████████████████████████████| 277/277 [00:05<00:00, 49.12it/s]\n"
     ]
    },
    {
     "name": "stdout",
     "output_type": "stream",
     "text": [
      "Train Loss 0.00000681\tValidation Loss 0.00041422\tAccuracy 0.9860\n"
     ]
    },
    {
     "name": "stderr",
     "output_type": "stream",
     "text": [
      "Training Epoch 32: 100%|█████████████████████████████████████████████████████████████| 277/277 [00:05<00:00, 49.36it/s]\n"
     ]
    },
    {
     "name": "stdout",
     "output_type": "stream",
     "text": [
      "Train Loss 0.00000515\tValidation Loss 0.00036881\tAccuracy 0.9866\n"
     ]
    },
    {
     "name": "stderr",
     "output_type": "stream",
     "text": [
      "Training Epoch 33: 100%|█████████████████████████████████████████████████████████████| 277/277 [00:05<00:00, 49.15it/s]\n"
     ]
    },
    {
     "name": "stdout",
     "output_type": "stream",
     "text": [
      "Train Loss 0.00000461\tValidation Loss 0.00039803\tAccuracy 0.9855\n"
     ]
    },
    {
     "name": "stderr",
     "output_type": "stream",
     "text": [
      "Training Epoch 34: 100%|█████████████████████████████████████████████████████████████| 277/277 [00:05<00:00, 48.40it/s]\n"
     ]
    },
    {
     "name": "stdout",
     "output_type": "stream",
     "text": [
      "Train Loss 0.00000424\tValidation Loss 0.00034928\tAccuracy 0.9889\n"
     ]
    },
    {
     "name": "stderr",
     "output_type": "stream",
     "text": [
      "Training Epoch 35: 100%|█████████████████████████████████████████████████████████████| 277/277 [00:05<00:00, 48.65it/s]\n"
     ]
    },
    {
     "name": "stdout",
     "output_type": "stream",
     "text": [
      "Train Loss 0.00000455\tValidation Loss 0.00042312\tAccuracy 0.9853\n"
     ]
    },
    {
     "name": "stderr",
     "output_type": "stream",
     "text": [
      "Training Epoch 36: 100%|█████████████████████████████████████████████████████████████| 277/277 [00:05<00:00, 48.72it/s]\n"
     ]
    },
    {
     "name": "stdout",
     "output_type": "stream",
     "text": [
      "Train Loss 0.00000561\tValidation Loss 0.00036689\tAccuracy 0.9879\n"
     ]
    },
    {
     "name": "stderr",
     "output_type": "stream",
     "text": [
      "Training Epoch 37: 100%|█████████████████████████████████████████████████████████████| 277/277 [00:05<00:00, 48.75it/s]\n"
     ]
    },
    {
     "name": "stdout",
     "output_type": "stream",
     "text": [
      "Train Loss 0.00000593\tValidation Loss 0.00037081\tAccuracy 0.9881\n"
     ]
    },
    {
     "name": "stderr",
     "output_type": "stream",
     "text": [
      "Training Epoch 38: 100%|█████████████████████████████████████████████████████████████| 277/277 [00:05<00:00, 49.05it/s]\n"
     ]
    },
    {
     "name": "stdout",
     "output_type": "stream",
     "text": [
      "Train Loss 0.00000505\tValidation Loss 0.00038659\tAccuracy 0.9876\n"
     ]
    },
    {
     "name": "stderr",
     "output_type": "stream",
     "text": [
      "Training Epoch 39: 100%|█████████████████████████████████████████████████████████████| 277/277 [00:05<00:00, 48.95it/s]\n"
     ]
    },
    {
     "name": "stdout",
     "output_type": "stream",
     "text": [
      "Train Loss 0.00000494\tValidation Loss 0.00039027\tAccuracy 0.9871\n"
     ]
    },
    {
     "name": "stderr",
     "output_type": "stream",
     "text": [
      "Training Epoch 40: 100%|█████████████████████████████████████████████████████████████| 277/277 [00:05<00:00, 49.03it/s]\n"
     ]
    },
    {
     "name": "stdout",
     "output_type": "stream",
     "text": [
      "Train Loss 0.00000577\tValidation Loss 0.00037108\tAccuracy 0.9873\n"
     ]
    },
    {
     "name": "stderr",
     "output_type": "stream",
     "text": [
      "Training Epoch 41: 100%|█████████████████████████████████████████████████████████████| 277/277 [00:05<00:00, 49.03it/s]\n"
     ]
    },
    {
     "name": "stdout",
     "output_type": "stream",
     "text": [
      "Train Loss 0.00000594\tValidation Loss 0.00044176\tAccuracy 0.9832\n"
     ]
    },
    {
     "name": "stderr",
     "output_type": "stream",
     "text": [
      "Training Epoch 42: 100%|█████████████████████████████████████████████████████████████| 277/277 [00:05<00:00, 49.09it/s]\n"
     ]
    },
    {
     "name": "stdout",
     "output_type": "stream",
     "text": [
      "Train Loss 0.00000619\tValidation Loss 0.00040820\tAccuracy 0.9873\n"
     ]
    },
    {
     "name": "stderr",
     "output_type": "stream",
     "text": [
      "Training Epoch 43: 100%|█████████████████████████████████████████████████████████████| 277/277 [00:05<00:00, 48.97it/s]\n"
     ]
    },
    {
     "name": "stdout",
     "output_type": "stream",
     "text": [
      "Train Loss 0.00000656\tValidation Loss 0.00041417\tAccuracy 0.9868\n"
     ]
    },
    {
     "name": "stderr",
     "output_type": "stream",
     "text": [
      "Training Epoch 44: 100%|█████████████████████████████████████████████████████████████| 277/277 [00:05<00:00, 49.10it/s]\n"
     ]
    },
    {
     "name": "stdout",
     "output_type": "stream",
     "text": [
      "Train Loss 0.00000645\tValidation Loss 0.00042589\tAccuracy 0.9860\n"
     ]
    },
    {
     "name": "stderr",
     "output_type": "stream",
     "text": [
      "Training Epoch 45: 100%|█████████████████████████████████████████████████████████████| 277/277 [00:05<00:00, 48.56it/s]\n"
     ]
    },
    {
     "name": "stdout",
     "output_type": "stream",
     "text": [
      "Train Loss 0.00000683\tValidation Loss 0.00039738\tAccuracy 0.9876\n"
     ]
    },
    {
     "name": "stderr",
     "output_type": "stream",
     "text": [
      "Training Epoch 46: 100%|█████████████████████████████████████████████████████████████| 277/277 [00:05<00:00, 48.63it/s]\n"
     ]
    },
    {
     "name": "stdout",
     "output_type": "stream",
     "text": [
      "Train Loss 0.00000748\tValidation Loss 0.00044651\tAccuracy 0.9881\n"
     ]
    },
    {
     "name": "stderr",
     "output_type": "stream",
     "text": [
      "Training Epoch 47: 100%|█████████████████████████████████████████████████████████████| 277/277 [00:05<00:00, 48.67it/s]\n"
     ]
    },
    {
     "name": "stdout",
     "output_type": "stream",
     "text": [
      "Train Loss 0.00001071\tValidation Loss 0.00044123\tAccuracy 0.9858\n"
     ]
    },
    {
     "name": "stderr",
     "output_type": "stream",
     "text": [
      "Training Epoch 48: 100%|█████████████████████████████████████████████████████████████| 277/277 [00:05<00:00, 48.42it/s]\n"
     ]
    },
    {
     "name": "stdout",
     "output_type": "stream",
     "text": [
      "Train Loss 0.00000688\tValidation Loss 0.00046094\tAccuracy 0.9863\n"
     ]
    },
    {
     "name": "stderr",
     "output_type": "stream",
     "text": [
      "Training Epoch 49: 100%|█████████████████████████████████████████████████████████████| 277/277 [00:05<00:00, 48.55it/s]\n"
     ]
    },
    {
     "name": "stdout",
     "output_type": "stream",
     "text": [
      "Train Loss 0.00000678\tValidation Loss 0.00042996\tAccuracy 0.9871\n"
     ]
    },
    {
     "name": "stderr",
     "output_type": "stream",
     "text": [
      "Training Epoch 50: 100%|█████████████████████████████████████████████████████████████| 277/277 [00:05<00:00, 49.11it/s]\n"
     ]
    },
    {
     "name": "stdout",
     "output_type": "stream",
     "text": [
      "Train Loss 0.00000695\tValidation Loss 0.00044419\tAccuracy 0.9866\n"
     ]
    },
    {
     "name": "stderr",
     "output_type": "stream",
     "text": [
      "Training Epoch 51: 100%|█████████████████████████████████████████████████████████████| 277/277 [00:05<00:00, 48.68it/s]\n"
     ]
    },
    {
     "name": "stdout",
     "output_type": "stream",
     "text": [
      "Train Loss 0.00000690\tValidation Loss 0.00042365\tAccuracy 0.9863\n"
     ]
    },
    {
     "name": "stderr",
     "output_type": "stream",
     "text": [
      "Training Epoch 52: 100%|█████████████████████████████████████████████████████████████| 277/277 [00:05<00:00, 48.95it/s]\n"
     ]
    },
    {
     "name": "stdout",
     "output_type": "stream",
     "text": [
      "Train Loss 0.00000708\tValidation Loss 0.00036455\tAccuracy 0.9886\n"
     ]
    },
    {
     "name": "stderr",
     "output_type": "stream",
     "text": [
      "Training Epoch 53: 100%|█████████████████████████████████████████████████████████████| 277/277 [00:05<00:00, 48.99it/s]\n"
     ]
    },
    {
     "name": "stdout",
     "output_type": "stream",
     "text": [
      "Train Loss 0.00000882\tValidation Loss 0.00050921\tAccuracy 0.9832\n"
     ]
    },
    {
     "name": "stderr",
     "output_type": "stream",
     "text": [
      "Training Epoch 54: 100%|█████████████████████████████████████████████████████████████| 277/277 [00:05<00:00, 49.15it/s]\n"
     ]
    },
    {
     "name": "stdout",
     "output_type": "stream",
     "text": [
      "Train Loss 0.00001251\tValidation Loss 0.00045901\tAccuracy 0.9850\n"
     ]
    },
    {
     "name": "stderr",
     "output_type": "stream",
     "text": [
      "Training Epoch 55: 100%|█████████████████████████████████████████████████████████████| 277/277 [00:05<00:00, 48.96it/s]\n"
     ]
    },
    {
     "name": "stdout",
     "output_type": "stream",
     "text": [
      "Train Loss 0.00001293\tValidation Loss 0.00045923\tAccuracy 0.9832\n"
     ]
    },
    {
     "name": "stderr",
     "output_type": "stream",
     "text": [
      "Training Epoch 56: 100%|█████████████████████████████████████████████████████████████| 277/277 [00:05<00:00, 49.10it/s]\n"
     ]
    },
    {
     "name": "stdout",
     "output_type": "stream",
     "text": [
      "Train Loss 0.00000805\tValidation Loss 0.00041635\tAccuracy 0.9860\n"
     ]
    },
    {
     "name": "stderr",
     "output_type": "stream",
     "text": [
      "Training Epoch 57: 100%|█████████████████████████████████████████████████████████████| 277/277 [00:05<00:00, 48.95it/s]\n"
     ]
    },
    {
     "name": "stdout",
     "output_type": "stream",
     "text": [
      "Train Loss 0.00000624\tValidation Loss 0.00038702\tAccuracy 0.9873\n"
     ]
    },
    {
     "name": "stderr",
     "output_type": "stream",
     "text": [
      "Training Epoch 58: 100%|█████████████████████████████████████████████████████████████| 277/277 [00:05<00:00, 48.96it/s]\n"
     ]
    },
    {
     "name": "stdout",
     "output_type": "stream",
     "text": [
      "Train Loss 0.00000681\tValidation Loss 0.00036311\tAccuracy 0.9876\n"
     ]
    },
    {
     "name": "stderr",
     "output_type": "stream",
     "text": [
      "Training Epoch 59: 100%|█████████████████████████████████████████████████████████████| 277/277 [00:05<00:00, 49.18it/s]\n"
     ]
    },
    {
     "name": "stdout",
     "output_type": "stream",
     "text": [
      "Train Loss 0.00000708\tValidation Loss 0.00037700\tAccuracy 0.9876\n"
     ]
    },
    {
     "name": "stderr",
     "output_type": "stream",
     "text": [
      "Training Epoch 60: 100%|█████████████████████████████████████████████████████████████| 277/277 [00:05<00:00, 49.05it/s]\n"
     ]
    },
    {
     "name": "stdout",
     "output_type": "stream",
     "text": [
      "Train Loss 0.00000739\tValidation Loss 0.00037911\tAccuracy 0.9879\n"
     ]
    }
   ],
   "source": [
    "from tqdm import tqdm\n",
    "\n",
    "lr = 0.001\n",
    "epochs = 60\n",
    "\n",
    "model = MyModel()\n",
    "model.to('cuda')\n",
    "optimizer = optim.Adam(model.parameters(), lr=lr, weight_decay=0.0001)\n",
    "criterion = nn.CrossEntropyLoss()\n",
    "scheduler = optim.lr_scheduler.StepLR(optimizer, 30, 0.1)\n",
    "\n",
    "def train(e):\n",
    "    epoch_loss = 0\n",
    "    model.train()\n",
    "    for i, (data, target) in enumerate(tqdm(train_loader, desc='Training Epoch {}'.format(e))):\n",
    "        data, target = data.to('cuda'), target.to('cuda')\n",
    "        optimizer.zero_grad()\n",
    "        output = model(data)\n",
    "        loss = criterion(output, target)\n",
    "        loss.backward()\n",
    "        optimizer.step()\n",
    "        epoch_loss += loss.item()\n",
    "    return epoch_loss / len(train_loader.dataset)\n",
    "\n",
    "def validation():\n",
    "    model.eval()\n",
    "    validation_loss = 0\n",
    "    correct = 0\n",
    "    with torch.no_grad():\n",
    "        for data, target in val_loader:\n",
    "            data, target = data.to('cuda'), target.to('cuda')\n",
    "            output = model(data)\n",
    "            validation_loss += criterion(output, target).item() # sum up batch loss\n",
    "            pred = output.data.max(1, keepdim=True)[1] # get the index of the max log-probability\n",
    "            correct += pred.eq(target.data.view_as(pred)).cpu().sum()\n",
    "\n",
    "    return validation_loss / len(val_loader.dataset), correct / len(val_loader.dataset)\n",
    "\n",
    "train_losses = []\n",
    "val_losses = []\n",
    "accus = []\n",
    "best_accu = 0\n",
    "for epoch in range(1, epochs + 1):\n",
    "    train_loss = train(epoch)\n",
    "    val_loss, accu = validation()\n",
    "    train_losses.append(train_loss)\n",
    "    val_losses.append(val_loss)\n",
    "    accus.append(accu)\n",
    "    print('Train Loss {:.8f}\\tValidation Loss {:.8f}\\tAccuracy {:.4f}'.format(train_loss, val_loss, accu))\n",
    "    if accu > best_accu:\n",
    "        best_accu = accu\n",
    "        model_file = 'models/model_best.pt'\n",
    "        torch.save(model.state_dict(), model_file)\n",
    "    scheduler.step()\n",
    "torch.save(model.state_dict(), 'models/model_last.pt')"
   ]
  },
  {
   "cell_type": "code",
   "execution_count": 36,
   "metadata": {},
   "outputs": [
    {
     "data": {
      "image/png": "[encoded data removed]",
      "text/plain": [
       "<Figure size 600x300 with 2 Axes>"
      ]
     },
     "metadata": {},
     "output_type": "display_data"
    }
   ],
   "source": [
    "import matplotlib.pyplot as plt\n",
    "\n",
    "fig = plt.figure(figsize=(6, 3))\n",
    "ax1 = fig.add_subplot(1, 2, 1)\n",
    "ax1.plot(train_losses, 'r', label='Train Loss')\n",
    "ax1.plot(val_losses, 'g', label='Val Loss')\n",
    "ax1.legend()\n",
    "ax1.set_title('Loss VS Epoch')\n",
    "ax2 = fig.add_subplot(1, 2, 2)\n",
    "ax2.plot(accus, 'b', label='Accuracy')\n",
    "ax2.set_title('Accuracy VS Epoch')\n",
    "fig.tight_layout()"
   ]
  },
  {
   "cell_type": "markdown",
   "metadata": {
    "id": "eVN1f1p7w59X"
   },
   "source": [
    "# Evaluate and Submit to Kaggle\n",
    "\n"
   ]
  },
  {
   "cell_type": "code",
   "execution_count": 38,
   "metadata": {
    "colab": {
     "base_uri": "https://localhost:8080/"
    },
    "id": "_BM5qP64w5zB",
    "outputId": "27830276-9212-40c0-f145-0f45da2dd023"
   },
   "outputs": [
    {
     "name": "stderr",
     "output_type": "stream",
     "text": [
      "100%|███████████████████████████████████████████████████████████████████████████| 12630/12630 [00:24<00:00, 512.77it/s]"
     ]
    },
    {
     "name": "stdout",
     "output_type": "stream",
     "text": [
      "Written to csv file gtsrb_kaggle.csv\n"
     ]
    },
    {
     "name": "stderr",
     "output_type": "stream",
     "text": [
      "\n"
     ]
    }
   ],
   "source": [
    "import pickle\n",
    "import pandas as pd\n",
    "\n",
    "outfile = 'gtsrb_kaggle.csv'\n",
    "\n",
    "# output_file = open(outfile, \"w\")\n",
    "dataframe_dict = {\"Filename\" : [], \"ClassId\": []}\n",
    "\n",
    "test_data = torch.load('data/dataset/testing/test.pt')\n",
    "file_ids = pickle.load(open('data/dataset/testing/file_ids.pkl', 'rb'))\n",
    "model = MyModel()\n",
    "state = torch.load('models/model_last.pt')\n",
    "model.load_state_dict(state)\n",
    "model.to('cuda')\n",
    "model.eval() # Don't forget to put your model on eval mode !\n",
    "\n",
    "for i, data in enumerate(tqdm(test_data)):\n",
    "    data = data.unsqueeze(0).to('cuda')\n",
    "\n",
    "    output = model(data)\n",
    "    pred = output.data.max(1, keepdim=True)[1].cpu().item()\n",
    "    file_id = file_ids[i][0:5]\n",
    "    dataframe_dict['Filename'].append(file_id)\n",
    "    dataframe_dict['ClassId'].append(pred)\n",
    "\n",
    "df = pd.DataFrame(data=dataframe_dict)\n",
    "df.to_csv(outfile, index=False)\n",
    "print(\"Written to csv file {}\".format(outfile))"
   ]
  },
  {
   "cell_type": "markdown",
   "metadata": {
    "id": "BhSl_4kn6sox"
   },
   "source": [
    "# Submitting to Kaggle\n",
    "\n",
    "Now download the CSV file `grtsrb_kaggle.csv` from your Google drive and then submit it to Kaggle to check the performance of your model."
   ]
  },
  {
   "cell_type": "markdown",
   "metadata": {},
   "source": [
    "# Brief Report"
   ]
  },
  {
   "cell_type": "markdown",
   "metadata": {},
   "source": [
    "I tried to use resnet series including resnet18 to resnet101 but they didn't perform well, and I guess some of them may have overfitted because the training loss droped to a extremely low magnitude but the validation loss remained at a high level. Some of them possibly were not very suitable for this task. Then I did refer to some notebooks which introduced their models. I actually did a combination of some notebooks and I used my familiar model architecture.\n",
    "\n",
    "I used convolution layers without padding and used pooling to downsample after some convolution layers. Then I use the widely-used batch-norm technique after activation functions, which I did some research on where to put the batch-norm layer. The convolution layer with kernal size equals 1 is what I learned from a notebook. I never used this technique and I tried to add this and found it was a little better than directly using `Flatten`, so I left it there. The last part is the fully connected layers, where I added dropout layers. Though some may say that it's unnecessary to use dropout when there exists batch-norm. I tried, and it was slightly better with a dropout to prevent overfit from my several tests. The hidden number of features is through several tests and actually it didn't really matter if it's between 256 to 2048.\n",
    "\n",
    "When training, I used `Adam` as the optimizer because of its speed. I tried to use `SGD` but it was really slow to converge and I can accept a little trade-off of accuracy. I added `weight_decay` to prevent overfit and set the learning rate at a low start point and used the learning rate scheduler to drop the magnitude of the learning rate after 30 epochs. I tried several times with different starting learning rates and different schedulers and so far this is the best. I also saved best models during training and the \"best\" model actually didn't perform as well as the \"last\" model in the test set on the public leaderboard."
   ]
  }
 ],
 "metadata": {
  "colab": {
   "collapsed_sections": [],
   "provenance": []
  },
  "kernelspec": {
   "display_name": "Python 3 (ipykernel)",
   "language": "python",
   "name": "python3"
  },
  "language_info": {
   "codemirror_mode": {
    "name": "ipython",
    "version": 3
   },
   "file_extension": ".py",
   "mimetype": "text/x-python",
   "name": "python",
   "nbconvert_exporter": "python",
   "pygments_lexer": "ipython3",
   "version": "3.9.12"
  }
 },
 "nbformat": 4,
 "nbformat_minor": 4
}
